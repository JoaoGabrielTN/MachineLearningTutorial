{
  "nbformat": 4,
  "nbformat_minor": 0,
  "metadata": {
    "colab": {
      "provenance": []
    },
    "kernelspec": {
      "name": "python3",
      "display_name": "Python 3"
    },
    "language_info": {
      "name": "python"
    }
  },
  "cells": [
    {
      "cell_type": "code",
      "execution_count": 1,
      "metadata": {
        "id": "XeRHqAAxMKTe"
      },
      "outputs": [],
      "source": [
        "import tensorflow as tf\n",
        "import keras\n",
        "import numpy"
      ]
    },
    {
      "cell_type": "code",
      "source": [
        "fashion_mnist = keras.datasets.fashion_mnist\n",
        "(x_train_full, y_train_full), (x_test, y_test) = fashion_mnist.load_data()"
      ],
      "metadata": {
        "id": "Eda_aJwoMbVy",
        "colab": {
          "base_uri": "https://localhost:8080/"
        },
        "outputId": "68b7566c-c20b-407c-a336-e331bf0800fa"
      },
      "execution_count": 2,
      "outputs": [
        {
          "output_type": "stream",
          "name": "stdout",
          "text": [
            "Downloading data from https://storage.googleapis.com/tensorflow/tf-keras-datasets/train-labels-idx1-ubyte.gz\n",
            "29515/29515 [==============================] - 0s 0us/step\n",
            "Downloading data from https://storage.googleapis.com/tensorflow/tf-keras-datasets/train-images-idx3-ubyte.gz\n",
            "26421880/26421880 [==============================] - 0s 0us/step\n",
            "Downloading data from https://storage.googleapis.com/tensorflow/tf-keras-datasets/t10k-labels-idx1-ubyte.gz\n",
            "5148/5148 [==============================] - 0s 0us/step\n",
            "Downloading data from https://storage.googleapis.com/tensorflow/tf-keras-datasets/t10k-images-idx3-ubyte.gz\n",
            "4422102/4422102 [==============================] - 0s 0us/step\n"
          ]
        }
      ]
    },
    {
      "cell_type": "code",
      "source": [
        "x_valid, x_train = x_train_full[:5000]/255.0, x_train_full[5000:]/255.0\n",
        "y_valid, y_train = y_train_full[:5000], y_train_full[5000:]"
      ],
      "metadata": {
        "id": "-TajvLCANKzR"
      },
      "execution_count": 3,
      "outputs": []
    },
    {
      "cell_type": "code",
      "source": [
        "x_train_full.shape"
      ],
      "metadata": {
        "colab": {
          "base_uri": "https://localhost:8080/"
        },
        "id": "tkPsjrDkdfSH",
        "outputId": "eb53ad74-a2cc-4429-ba9c-8bd4a29ae6a4"
      },
      "execution_count": 12,
      "outputs": [
        {
          "output_type": "execute_result",
          "data": {
            "text/plain": [
              "(60000, 28, 28)"
            ]
          },
          "metadata": {},
          "execution_count": 12
        }
      ]
    },
    {
      "cell_type": "code",
      "source": [
        "x_test.shape"
      ],
      "metadata": {
        "colab": {
          "base_uri": "https://localhost:8080/"
        },
        "id": "i1cGXGmGdkY6",
        "outputId": "b16e7f80-c8cc-4514-8936-ff54991a0a80"
      },
      "execution_count": 13,
      "outputs": [
        {
          "output_type": "execute_result",
          "data": {
            "text/plain": [
              "(10000, 28, 28)"
            ]
          },
          "metadata": {},
          "execution_count": 13
        }
      ]
    },
    {
      "cell_type": "code",
      "source": [
        "y_test.shape"
      ],
      "metadata": {
        "colab": {
          "base_uri": "https://localhost:8080/"
        },
        "id": "NBTWbta-d_At",
        "outputId": "451fa4a3-35a8-43ef-bae9-ad93b77e5d54"
      },
      "execution_count": 15,
      "outputs": [
        {
          "output_type": "execute_result",
          "data": {
            "text/plain": [
              "(10000,)"
            ]
          },
          "metadata": {},
          "execution_count": 15
        }
      ]
    },
    {
      "cell_type": "code",
      "source": [
        "class_names = [\"T-shit/top\", \"Trouser\", \"Pullover\", \"Dress\", \"Coat\", \"Sandal\", \"Shirt\", \"Sneaker\", \"Bag\", \"Ankle boot\"]"
      ],
      "metadata": {
        "id": "WUhThRyiRc5K"
      },
      "execution_count": 4,
      "outputs": []
    },
    {
      "cell_type": "code",
      "source": [
        "class_names[y_train[0]]"
      ],
      "metadata": {
        "colab": {
          "base_uri": "https://localhost:8080/",
          "height": 35
        },
        "id": "eHPq8cOkSi7p",
        "outputId": "10ccedb3-71b0-4b07-f379-86029fb872f5"
      },
      "execution_count": 5,
      "outputs": [
        {
          "output_type": "execute_result",
          "data": {
            "text/plain": [
              "'Coat'"
            ],
            "application/vnd.google.colaboratory.intrinsic+json": {
              "type": "string"
            }
          },
          "metadata": {},
          "execution_count": 5
        }
      ]
    },
    {
      "cell_type": "code",
      "source": [
        "model = keras.models.Sequential()\n",
        "model.add(keras.layers.Flatten(input_shape=[28,28]))\n",
        "model.add(keras.layers.Dense(300, activation=\"relu\"))\n",
        "model.add(keras.layers.Dense(100, activation=\"relu\"))\n",
        "model.add(keras.layers.Dense(10, activation=\"softmax\"))"
      ],
      "metadata": {
        "id": "kF3SA3SrNedK"
      },
      "execution_count": 6,
      "outputs": []
    },
    {
      "cell_type": "code",
      "source": [
        "model.layers"
      ],
      "metadata": {
        "colab": {
          "base_uri": "https://localhost:8080/"
        },
        "id": "SHEKkcVJecn3",
        "outputId": "655e68c2-2dd5-4ff9-9c29-8e9482c1842e"
      },
      "execution_count": 16,
      "outputs": [
        {
          "output_type": "execute_result",
          "data": {
            "text/plain": [
              "[<keras.src.layers.reshaping.flatten.Flatten at 0x7d0aac047eb0>,\n",
              " <keras.src.layers.core.dense.Dense at 0x7d0aac0c8bb0>,\n",
              " <keras.src.layers.core.dense.Dense at 0x7d0aac0c9840>,\n",
              " <keras.src.layers.core.dense.Dense at 0x7d0aac0c9930>]"
            ]
          },
          "metadata": {},
          "execution_count": 16
        }
      ]
    },
    {
      "cell_type": "code",
      "source": [
        "model.summary()"
      ],
      "metadata": {
        "colab": {
          "base_uri": "https://localhost:8080/"
        },
        "id": "6lPFpzGXPF7A",
        "outputId": "be418a87-8345-4fc2-9fff-c065487768a8"
      },
      "execution_count": 7,
      "outputs": [
        {
          "output_type": "stream",
          "name": "stdout",
          "text": [
            "Model: \"sequential\"\n",
            "_________________________________________________________________\n",
            " Layer (type)                Output Shape              Param #   \n",
            "=================================================================\n",
            " flatten (Flatten)           (None, 784)               0         \n",
            "                                                                 \n",
            " dense (Dense)               (None, 300)               235500    \n",
            "                                                                 \n",
            " dense_1 (Dense)             (None, 100)               30100     \n",
            "                                                                 \n",
            " dense_2 (Dense)             (None, 10)                1010      \n",
            "                                                                 \n",
            "=================================================================\n",
            "Total params: 266610 (1.02 MB)\n",
            "Trainable params: 266610 (1.02 MB)\n",
            "Non-trainable params: 0 (0.00 Byte)\n",
            "_________________________________________________________________\n"
          ]
        }
      ]
    },
    {
      "cell_type": "code",
      "source": [
        "model.compile(loss=\"sparse_categorical_crossentropy\", optimizer=\"sgd\", metrics=[\"accuracy\"])"
      ],
      "metadata": {
        "id": "sx0mdU6bhihd"
      },
      "execution_count": 8,
      "outputs": []
    },
    {
      "cell_type": "code",
      "source": [
        "history = model.fit(x_train, y_train, epochs=30, validation_data=(x_valid, y_valid))"
      ],
      "metadata": {
        "colab": {
          "base_uri": "https://localhost:8080/"
        },
        "id": "YZ7KDpachOZS",
        "outputId": "17e3a6c0-d0dd-4d9c-851b-eaf435a20b4d"
      },
      "execution_count": 9,
      "outputs": [
        {
          "output_type": "stream",
          "name": "stdout",
          "text": [
            "Epoch 1/30\n",
            "1719/1719 [==============================] - 23s 13ms/step - loss: 0.7095 - accuracy: 0.7687 - val_loss: 0.5175 - val_accuracy: 0.8248\n",
            "Epoch 2/30\n",
            "1719/1719 [==============================] - 12s 7ms/step - loss: 0.4853 - accuracy: 0.8300 - val_loss: 0.4316 - val_accuracy: 0.8570\n",
            "Epoch 3/30\n",
            "1719/1719 [==============================] - 8s 5ms/step - loss: 0.4397 - accuracy: 0.8466 - val_loss: 0.4159 - val_accuracy: 0.8598\n",
            "Epoch 4/30\n",
            "1719/1719 [==============================] - 18s 10ms/step - loss: 0.4130 - accuracy: 0.8553 - val_loss: 0.3967 - val_accuracy: 0.8656\n",
            "Epoch 5/30\n",
            "1719/1719 [==============================] - 12s 7ms/step - loss: 0.3939 - accuracy: 0.8619 - val_loss: 0.4261 - val_accuracy: 0.8488\n",
            "Epoch 6/30\n",
            "1719/1719 [==============================] - 15s 9ms/step - loss: 0.3782 - accuracy: 0.8665 - val_loss: 0.3725 - val_accuracy: 0.8700\n",
            "Epoch 7/30\n",
            "1719/1719 [==============================] - 20s 12ms/step - loss: 0.3652 - accuracy: 0.8717 - val_loss: 0.3583 - val_accuracy: 0.8764\n",
            "Epoch 8/30\n",
            "1719/1719 [==============================] - 18s 11ms/step - loss: 0.3529 - accuracy: 0.8750 - val_loss: 0.3463 - val_accuracy: 0.8764\n",
            "Epoch 9/30\n",
            "1719/1719 [==============================] - 18s 10ms/step - loss: 0.3431 - accuracy: 0.8783 - val_loss: 0.3598 - val_accuracy: 0.8730\n",
            "Epoch 10/30\n",
            "1719/1719 [==============================] - 16s 9ms/step - loss: 0.3342 - accuracy: 0.8795 - val_loss: 0.3488 - val_accuracy: 0.8804\n",
            "Epoch 11/30\n",
            "1719/1719 [==============================] - 10s 6ms/step - loss: 0.3250 - accuracy: 0.8844 - val_loss: 0.3333 - val_accuracy: 0.8816\n",
            "Epoch 12/30\n",
            "1719/1719 [==============================] - 10s 6ms/step - loss: 0.3178 - accuracy: 0.8874 - val_loss: 0.3318 - val_accuracy: 0.8836\n",
            "Epoch 13/30\n",
            "1719/1719 [==============================] - 8s 5ms/step - loss: 0.3096 - accuracy: 0.8898 - val_loss: 0.3231 - val_accuracy: 0.8876\n",
            "Epoch 14/30\n",
            "1719/1719 [==============================] - 9s 5ms/step - loss: 0.3044 - accuracy: 0.8909 - val_loss: 0.3209 - val_accuracy: 0.8868\n",
            "Epoch 15/30\n",
            "1719/1719 [==============================] - 10s 6ms/step - loss: 0.2973 - accuracy: 0.8934 - val_loss: 0.3209 - val_accuracy: 0.8852\n",
            "Epoch 16/30\n",
            "1719/1719 [==============================] - 11s 6ms/step - loss: 0.2907 - accuracy: 0.8945 - val_loss: 0.3112 - val_accuracy: 0.8902\n",
            "Epoch 17/30\n",
            "1719/1719 [==============================] - 9s 5ms/step - loss: 0.2854 - accuracy: 0.8975 - val_loss: 0.3275 - val_accuracy: 0.8818\n",
            "Epoch 18/30\n",
            "1719/1719 [==============================] - 9s 6ms/step - loss: 0.2797 - accuracy: 0.8993 - val_loss: 0.3123 - val_accuracy: 0.8878\n",
            "Epoch 19/30\n",
            "1719/1719 [==============================] - 9s 5ms/step - loss: 0.2746 - accuracy: 0.9009 - val_loss: 0.3085 - val_accuracy: 0.8868\n",
            "Epoch 20/30\n",
            "1719/1719 [==============================] - 9s 5ms/step - loss: 0.2688 - accuracy: 0.9024 - val_loss: 0.3317 - val_accuracy: 0.8808\n",
            "Epoch 21/30\n",
            "1719/1719 [==============================] - 10s 6ms/step - loss: 0.2645 - accuracy: 0.9042 - val_loss: 0.2988 - val_accuracy: 0.8944\n",
            "Epoch 22/30\n",
            "1719/1719 [==============================] - 8s 5ms/step - loss: 0.2596 - accuracy: 0.9069 - val_loss: 0.2978 - val_accuracy: 0.8938\n",
            "Epoch 23/30\n",
            "1719/1719 [==============================] - 10s 6ms/step - loss: 0.2548 - accuracy: 0.9080 - val_loss: 0.3167 - val_accuracy: 0.8870\n",
            "Epoch 24/30\n",
            "1719/1719 [==============================] - 10s 6ms/step - loss: 0.2510 - accuracy: 0.9110 - val_loss: 0.3067 - val_accuracy: 0.8938\n",
            "Epoch 25/30\n",
            "1719/1719 [==============================] - 8s 5ms/step - loss: 0.2460 - accuracy: 0.9117 - val_loss: 0.3026 - val_accuracy: 0.8908\n",
            "Epoch 26/30\n",
            "1719/1719 [==============================] - 17s 10ms/step - loss: 0.2433 - accuracy: 0.9133 - val_loss: 0.3004 - val_accuracy: 0.8944\n",
            "Epoch 27/30\n",
            "1719/1719 [==============================] - 18s 10ms/step - loss: 0.2397 - accuracy: 0.9136 - val_loss: 0.2999 - val_accuracy: 0.8914\n",
            "Epoch 28/30\n",
            "1719/1719 [==============================] - 10s 6ms/step - loss: 0.2349 - accuracy: 0.9144 - val_loss: 0.2937 - val_accuracy: 0.8950\n",
            "Epoch 29/30\n",
            "1719/1719 [==============================] - 11s 6ms/step - loss: 0.2316 - accuracy: 0.9166 - val_loss: 0.3016 - val_accuracy: 0.8932\n",
            "Epoch 30/30\n",
            "1719/1719 [==============================] - 13s 7ms/step - loss: 0.2272 - accuracy: 0.9180 - val_loss: 0.3004 - val_accuracy: 0.8922\n"
          ]
        }
      ]
    },
    {
      "cell_type": "code",
      "source": [
        "model.evaluate(x_test, y_test)"
      ],
      "metadata": {
        "colab": {
          "base_uri": "https://localhost:8080/"
        },
        "id": "bYVTOGhca6mn",
        "outputId": "fe5f5069-fee7-4894-e0fe-01a9938990c5"
      },
      "execution_count": 14,
      "outputs": [
        {
          "output_type": "stream",
          "name": "stdout",
          "text": [
            "313/313 [==============================] - 1s 3ms/step - loss: 70.4833 - accuracy: 0.8424\n"
          ]
        },
        {
          "output_type": "execute_result",
          "data": {
            "text/plain": [
              "[70.4832534790039, 0.8424000144004822]"
            ]
          },
          "metadata": {},
          "execution_count": 14
        }
      ]
    },
    {
      "cell_type": "code",
      "source": [
        "import matplotlib.pyplot as plt\n",
        "import pandas as pd"
      ],
      "metadata": {
        "id": "gSC32RLlbOqu"
      },
      "execution_count": 17,
      "outputs": []
    },
    {
      "cell_type": "code",
      "source": [
        "pd.DataFrame(history.history).plot(figsize=(8, 5))\n",
        "plt.grid(True)\n",
        "plt.gca().set_ylim(0, 1)\n",
        "plt.show()"
      ],
      "metadata": {
        "colab": {
          "base_uri": "https://localhost:8080/",
          "height": 451
        },
        "id": "qKN92qkPbhNd",
        "outputId": "9fdd16d1-49da-485c-bfaa-d22eced71bbc"
      },
      "execution_count": 19,
      "outputs": [
        {
          "output_type": "display_data",
          "data": {
            "text/plain": [
              "<Figure size 800x500 with 1 Axes>"
            ],
            "image/png": "[encoded data removed]"
          },
          "metadata": {}
        }
      ]
    },
    {
      "cell_type": "code",
      "source": [
        "model.save(\"MLPfashino_mnist.keras\")"
      ],
      "metadata": {
        "id": "9B98iVadcbU9"
      },
      "execution_count": 22,
      "outputs": []
    },
    {
      "cell_type": "code",
      "source": [
        "model_loaded = keras.models.load_model(\"MLPfashino_mnist.keras\")"
      ],
      "metadata": {
        "id": "lJ6Xn2HBfeAE"
      },
      "execution_count": 24,
      "outputs": []
    },
    {
      "cell_type": "code",
      "source": [
        "x_new = x_test[:3]\n",
        "y_proba = model_loaded.predict(x_new)\n",
        "y_proba.round(2)"
      ],
      "metadata": {
        "colab": {
          "base_uri": "https://localhost:8080/"
        },
        "id": "4fZDB2avfmOI",
        "outputId": "1a478629-9d35-4258-8111-96ed1d07b56f"
      },
      "execution_count": 27,
      "outputs": [
        {
          "output_type": "stream",
          "name": "stdout",
          "text": [
            "1/1 [==============================] - 0s 158ms/step\n"
          ]
        },
        {
          "output_type": "execute_result",
          "data": {
            "text/plain": [
              "array([[0., 0., 0., 0., 0., 0., 0., 0., 0., 1.],\n",
              "       [0., 0., 1., 0., 0., 0., 0., 0., 0., 0.],\n",
              "       [0., 1., 0., 0., 0., 0., 0., 0., 0., 0.]], dtype=float32)"
            ]
          },
          "metadata": {},
          "execution_count": 27
        }
      ]
    },
    {
      "cell_type": "code",
      "source": [
        "classes_x = numpy.argmax(y_proba,axis=1)\n",
        "classes_x"
      ],
      "metadata": {
        "colab": {
          "base_uri": "https://localhost:8080/"
        },
        "id": "QlUn6xZfgLk6",
        "outputId": "d4ae24fd-89a5-4a90-bc78-6a62aa70613f"
      },
      "execution_count": 29,
      "outputs": [
        {
          "output_type": "execute_result",
          "data": {
            "text/plain": [
              "array([9, 2, 1])"
            ]
          },
          "metadata": {},
          "execution_count": 29
        }
      ]
    },
    {
      "cell_type": "code",
      "source": [
        "numpy.array(class_names)[classes_x]"
      ],
      "metadata": {
        "colab": {
          "base_uri": "https://localhost:8080/"
        },
        "id": "BABrPq36g-d4",
        "outputId": "5a45a4a0-4a0d-4a7e-bd23-9f810bda7174"
      },
      "execution_count": 30,
      "outputs": [
        {
          "output_type": "execute_result",
          "data": {
            "text/plain": [
              "array(['Ankle boot', 'Pullover', 'Trouser'], dtype='<U10')"
            ]
          },
          "metadata": {},
          "execution_count": 30
        }
      ]
    },
    {
      "cell_type": "code",
      "source": [
        "y_new = y_test[:3]\n",
        "y_new"
      ],
      "metadata": {
        "colab": {
          "base_uri": "https://localhost:8080/"
        },
        "id": "pMsMQN-FhMjE",
        "outputId": "cc8efda0-0851-4c38-d489-945089d92027"
      },
      "execution_count": 31,
      "outputs": [
        {
          "output_type": "execute_result",
          "data": {
            "text/plain": [
              "array([9, 2, 1], dtype=uint8)"
            ]
          },
          "metadata": {},
          "execution_count": 31
        }
      ]
    },
    {
      "cell_type": "markdown",
      "source": [
        "links para o keras\n",
        "https://keras.io/activations/\n",
        "https://keras.io/initializers/\n",
        "https://keras.io/losses\n",
        "https://keras.io/optimizers\n",
        "https://keras.io/metrics"
      ],
      "metadata": {
        "id": "-XexXnsQUR_Y"
      }
    }
  ]
}